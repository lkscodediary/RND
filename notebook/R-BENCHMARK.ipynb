{
 "cells": [
  {
   "cell_type": "markdown",
   "id": "ad0bfdc8",
   "metadata": {},
   "source": [
    "# TESTING CPU + MEMORY WITH MEAN MEDIAN MODE"
   ]
  },
  {
   "cell_type": "code",
   "execution_count": 1,
   "id": "45655832",
   "metadata": {},
   "outputs": [],
   "source": [
    "library(parallel)\n",
    "library(rsvd)"
   ]
  },
  {
   "cell_type": "code",
   "execution_count": 56,
   "id": "ccbde969",
   "metadata": {},
   "outputs": [
    {
     "data": {
      "text/html": [
       "<table class=\"dataframe\">\n",
       "<caption>A matrix: 2 × 6 of type dbl</caption>\n",
       "<thead>\n",
       "\t<tr><th></th><th scope=col>used</th><th scope=col>(Mb)</th><th scope=col>gc trigger</th><th scope=col>(Mb)</th><th scope=col>max used</th><th scope=col>(Mb)</th></tr>\n",
       "</thead>\n",
       "<tbody>\n",
       "\t<tr><th scope=row>Ncells</th><td>  1845820</td><td>  98.6</td><td>   2926197</td><td> 156.3</td><td>   2926197</td><td> 156.3</td></tr>\n",
       "\t<tr><th scope=row>Vcells</th><td>503207761</td><td>3839.2</td><td>1159211674</td><td>8844.1</td><td>1159200990</td><td>8844.1</td></tr>\n",
       "</tbody>\n",
       "</table>\n"
      ],
      "text/latex": [
       "A matrix: 2 × 6 of type dbl\n",
       "\\begin{tabular}{r|llllll}\n",
       "  & used & (Mb) & gc trigger & (Mb) & max used & (Mb)\\\\\n",
       "\\hline\n",
       "\tNcells &   1845820 &   98.6 &    2926197 &  156.3 &    2926197 &  156.3\\\\\n",
       "\tVcells & 503207761 & 3839.2 & 1159211674 & 8844.1 & 1159200990 & 8844.1\\\\\n",
       "\\end{tabular}\n"
      ],
      "text/markdown": [
       "\n",
       "A matrix: 2 × 6 of type dbl\n",
       "\n",
       "| <!--/--> | used | (Mb) | gc trigger | (Mb) | max used | (Mb) |\n",
       "|---|---|---|---|---|---|---|\n",
       "| Ncells |   1845820 |   98.6 |    2926197 |  156.3 |    2926197 |  156.3 |\n",
       "| Vcells | 503207761 | 3839.2 | 1159211674 | 8844.1 | 1159200990 | 8844.1 |\n",
       "\n"
      ],
      "text/plain": [
       "       used      (Mb)   gc trigger (Mb)   max used   (Mb)  \n",
       "Ncells   1845820   98.6    2926197  156.3    2926197  156.3\n",
       "Vcells 503207761 3839.2 1159211674 8844.1 1159200990 8844.1"
      ]
     },
     "metadata": {},
     "output_type": "display_data"
    }
   ],
   "source": [
    "#Clear garbage\n",
    "rm(data_list)\n",
    "gc()"
   ]
  },
  {
   "cell_type": "markdown",
   "id": "4fa05068-0211-48f4-a881-f7511aebb453",
   "metadata": {},
   "source": [
    "## CREATE AN EMPTY LIST TO TO STATS"
   ]
  },
  {
   "cell_type": "code",
   "execution_count": 3,
   "id": "e9ff3866-fc14-47dc-8b89-46c97b25cc42",
   "metadata": {},
   "outputs": [],
   "source": [
    "stats = data.frame(Task = character(15), Time = numeric(15))\n",
    "counter = 1"
   ]
  },
  {
   "cell_type": "code",
   "execution_count": 54,
   "id": "52497052",
   "metadata": {},
   "outputs": [],
   "source": [
    "#Generate a list of 100 million numbers of length 3\n",
    "tik <- Sys.time()\n",
    "data_list <- list(\"1\" = runif(1e8),\n",
    "                  \"2\" = runif(1e8),\n",
    "                  \"3\" = runif(1e8))\n",
    "data_list <- as.data.frame.list(data_list)\n",
    "tok <- Sys.time()\n",
    "stats[counter,\"Task\"] <- \"Generate a data frame of 100 million numbers of width 3\"\n",
    "stats[counter,\"Time\"] <- difftime(tok,tik,units=\"sec\")\n",
    "counter <- counter + 1"
   ]
  },
  {
   "cell_type": "code",
   "execution_count": 5,
   "id": "0c315100",
   "metadata": {},
   "outputs": [
    {
     "data": {
      "text/html": [
       "'2.4 GB'"
      ],
      "text/latex": [
       "'2.4 GB'"
      ],
      "text/markdown": [
       "'2.4 GB'"
      ],
      "text/plain": [
       "[1] \"2.4 GB\""
      ]
     },
     "metadata": {},
     "output_type": "display_data"
    }
   ],
   "source": [
    "format(object.size(data_list),standard=\"SI\",units=\"GB\")"
   ]
  },
  {
   "cell_type": "markdown",
   "id": "8357eb1c",
   "metadata": {},
   "source": [
    "#### STATISTICS"
   ]
  },
  {
   "cell_type": "code",
   "execution_count": 6,
   "id": "b17cf702-9170-4b8f-aafe-c31b5b4619c6",
   "metadata": {},
   "outputs": [],
   "source": [
    "#MEAN AND MEDIAN\n",
    "tik <- Sys.time()\n",
    "temp <- lapply(data_list, mean)\n",
    "tok <- Sys.time()\n",
    "stats[counter,\"Task\"] <- \"Mean of each column\"\n",
    "stats[counter,\"Time\"] <- difftime(tok,tik,units=\"sec\")\n",
    "counter <- counter + 1\n",
    "\n",
    "tik <- Sys.time()\n",
    "temp <- lapply(data_list, median)\n",
    "tok <- Sys.time()\n",
    "stats[counter,\"Task\"] <- \"Median of each column\"\n",
    "stats[counter,\"Time\"] <- difftime(tok,tik,units=\"sec\")\n",
    "counter <- counter + 1"
   ]
  },
  {
   "cell_type": "markdown",
   "id": "78cea707",
   "metadata": {},
   "source": [
    "### PARALLEL MEAN"
   ]
  },
  {
   "cell_type": "code",
   "execution_count": 7,
   "id": "cef4f8bd",
   "metadata": {},
   "outputs": [],
   "source": [
    "# PARALLEL MEAN\n",
    "tik <- Sys.time()\n",
    "temp <- mclapply(data_list, mean)\n",
    "tok <- Sys.time()\n",
    "stats[counter,\"Task\"] <- \"Parallel Median of each column\"\n",
    "stats[counter,\"Time\"] <- difftime(tok,tik,units=\"sec\")\n",
    "counter <- counter + 1\n",
    "\n",
    "tik <- Sys.time()\n",
    "temp <- mclapply(data_list, median)\n",
    "tok <- Sys.time()\n",
    "stats[counter,\"Task\"] <- \"Parallel Median of each column\"\n",
    "stats[counter,\"Time\"] <- difftime(tok,tik,units=\"sec\")\n",
    "counter <- counter + 1"
   ]
  },
  {
   "cell_type": "markdown",
   "id": "8ca6e253",
   "metadata": {},
   "source": [
    "## MATRIX MATH"
   ]
  },
  {
   "cell_type": "code",
   "execution_count": 8,
   "id": "5efdd6b9",
   "metadata": {},
   "outputs": [],
   "source": [
    "# MATRIX MATH\n",
    "tik <- Sys.time()\n",
    "a<-10000\n",
    "test_mat <- matrix(runif(a*a),nrow=a,ncol=a)\n",
    "tok <- Sys.time()\n",
    "stats[counter,\"Task\"] <- \"Create A 10000 x 10000 matrix\"\n",
    "stats[counter,\"Time\"] <- difftime(tok,tik,units=\"sec\")\n",
    "counter <- counter + 1"
   ]
  },
  {
   "cell_type": "code",
   "execution_count": 9,
   "id": "e3c7a3bb-7d14-4ef1-a95b-7ea39f853a9c",
   "metadata": {},
   "outputs": [],
   "source": [
    "# SUMMATION OF A MATRIX\n",
    "tik <- Sys.time()\n",
    "temp <- test_mat + test_mat\n",
    "tok <- Sys.time()\n",
    "stats[counter,\"Task\"] <- \"Sum two 10000 x 10000 matrices\"\n",
    "stats[counter,\"Time\"] <- difftime(tok,tik,units=\"sec\")\n",
    "counter <- counter + 1"
   ]
  },
  {
   "cell_type": "code",
   "execution_count": 21,
   "id": "9dbb9c4d",
   "metadata": {},
   "outputs": [],
   "source": [
    "#INVERSE OF A MATRIX\n",
    "tik <- Sys.time()\n",
    "temp <- solve(test_mat)\n",
    "tok <- Sys.time()\n",
    "stats[counter,\"Task\"] <- \"Inverse of a 10000 x 10000 matrices\"\n",
    "stats[counter,\"Time\"] <- difftime(tok,tik,units=\"sec\")\n",
    "counter <- counter + 1"
   ]
  },
  {
   "cell_type": "code",
   "execution_count": 22,
   "id": "25b6081b",
   "metadata": {},
   "outputs": [],
   "source": [
    "#DETERMINANT OF A MATRIX\n",
    "tik <- Sys.time()\n",
    "temp <- det(test_mat)\n",
    "tok <- Sys.time()\n",
    "stats[counter,\"Task\"] <- \"Determinant of a 10000 x 10000 matrix\"\n",
    "stats[counter,\"Time\"] <- difftime(tok,tik,units=\"sec\")\n",
    "counter <- counter + 1"
   ]
  },
  {
   "cell_type": "code",
   "execution_count": 23,
   "id": "09ff5210",
   "metadata": {},
   "outputs": [],
   "source": [
    "#MATRIX MULTIPLICATION\n",
    "tik <- Sys.time()\n",
    "a<-10000\n",
    "temp <- test_mat %*% test_mat\n",
    "tok <- Sys.time()\n",
    "stats[counter,\"Task\"] <- \"Matrix Multi 2 10000 x 10000 matrices\"\n",
    "stats[counter,\"Time\"] <- difftime(tok,tik,units=\"sec\")\n",
    "counter <- counter + 1"
   ]
  },
  {
   "cell_type": "code",
   "execution_count": 25,
   "id": "0e67ddc9",
   "metadata": {},
   "outputs": [],
   "source": [
    "#SINGULAR VALUE DECOMPOSITION\n",
    "tik <- Sys.time()\n",
    "a<-10000\n",
    "temp <- svd(test_mat)\n",
    "tok <- Sys.time()\n",
    "stats[counter,\"Task\"] <- \"SVD of 10000 x 10000 matrix\"\n",
    "stats[counter,\"Time\"] <- difftime(tok,tik,units=\"sec\")\n",
    "counter <- counter + 1\n",
    "\n",
    "tik <- Sys.time()\n",
    "a<-10000\n",
    "temp <- rsvd(test_mat,  k = 500)\n",
    "tok <- Sys.time()\n",
    "stats[counter,\"Task\"] <- \"RSVD of 10000 x 10000 matrix\"\n",
    "stats[counter,\"Time\"] <- difftime(tok,tik,units=\"sec\")\n",
    "counter <- counter + 1"
   ]
  },
  {
   "cell_type": "code",
   "execution_count": 26,
   "id": "a9816878",
   "metadata": {},
   "outputs": [],
   "source": [
    "#CROSS PRODUCT\n",
    "tik <- Sys.time()\n",
    "a<-10000\n",
    "temp <- crossprod(test_mat)\n",
    "tok <- Sys.time()\n",
    "stats[counter,\"Task\"] <- \"CROSS PRODUCT of 10000 x 10000 matrix\"\n",
    "stats[counter,\"Time\"] <- difftime(tok,tik,units=\"sec\")\n",
    "counter <- counter + 1"
   ]
  },
  {
   "cell_type": "code",
   "execution_count": 27,
   "id": "d7c173c4",
   "metadata": {},
   "outputs": [],
   "source": [
    "#QR DCOMPOSITION\n",
    "tik <- Sys.time()\n",
    "a<-10000\n",
    "temp <- qr(test_mat)\n",
    "tok <- Sys.time()\n",
    "stats[counter,\"Task\"] <- \"QR DECOMPOSITION of 10000 x 10000 matrix\"\n",
    "stats[counter,\"Time\"] <- difftime(tok,tik,units=\"sec\")\n",
    "counter <- counter + 1"
   ]
  },
  {
   "cell_type": "code",
   "execution_count": null,
   "id": "9689b593-b084-4330-b064-a1ffe5d52849",
   "metadata": {},
   "outputs": [],
   "source": [
    "#EIGEN VALUE DECOMPOSITION\n",
    "tik <- Sys.time()\n",
    "a<-10000\n",
    "temp <- eigen(test_mat)\n",
    "tok <- Sys.time()\n",
    "stats[counter,\"Task\"] <- \"EIGEN DECOMPOSITION of 10000 x 10000 matrix\"\n",
    "stats[counter,\"Time\"] <- difftime(tok,tik,units=\"sec\")\n",
    "counter <- counter + 1"
   ]
  },
  {
   "cell_type": "code",
   "execution_count": null,
   "id": "80461f71-a895-4a24-b82e-bb7ef6d634db",
   "metadata": {},
   "outputs": [],
   "source": [
    "print(as.data.frame(stats))"
   ]
  }
 ],
 "metadata": {
  "kernelspec": {
   "display_name": "R 4.2",
   "language": "R",
   "name": "ir42"
  },
  "language_info": {
   "codemirror_mode": "r",
   "file_extension": ".r",
   "mimetype": "text/x-r-source",
   "name": "R",
   "pygments_lexer": "r",
   "version": "4.2.3"
  }
 },
 "nbformat": 4,
 "nbformat_minor": 5
}
