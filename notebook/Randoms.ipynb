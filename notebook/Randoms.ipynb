{
 "cells": [
  {
   "cell_type": "code",
   "execution_count": 1,
   "id": "e10ac815",
   "metadata": {},
   "outputs": [],
   "source": [
    "import numpy as np\n",
    "from time import time"
   ]
  },
  {
   "cell_type": "code",
   "execution_count": 2,
   "id": "70948ed4",
   "metadata": {},
   "outputs": [],
   "source": [
    "def matrix_mul(size, n=100):\n",
    "    # reference: https://markus-beuckelmann.de/blog/boosting-numpy-blas.html\n",
    "    np.random.seed(112)\n",
    "    a, b = np.random.random((size, size)), np.random.random((size, size))\n",
    "    t = time()\n",
    "    for _ in range(n):\n",
    "        np.dot(a, b)\n",
    "    delta = time() - t\n",
    "    print('Dotted two matrices of size %dx%d in %0.4f ms.' % (size, size, delta / n * 1000))\n",
    "\n",
    "\n",
    "def eigen_decomposition(size, n=10):\n",
    "    np.random.seed(112)\n",
    "    a = np.random.random((size, size))\n",
    "    t = time()\n",
    "    for _ in range(n):\n",
    "        np.linalg.eig(a)\n",
    "    delta = time() - t\n",
    "    print('Eigen decomposition of size %dx%d in %0.4f ms.' % (size, size, delta / n * 1000))"
   ]
  },
  {
   "cell_type": "code",
   "execution_count": 5,
   "id": "f4abff82",
   "metadata": {},
   "outputs": [
    {
     "name": "stdout",
     "output_type": "stream",
     "text": [
      "Dotted two matrices of size 500x500 in 7.2402 ms.\n",
      "Dotted two matrices of size 500x500 in 7.3315 ms.\n",
      "Dotted two matrices of size 500x500 in 7.3313 ms.\n",
      "Dotted two matrices of size 500x500 in 7.5528 ms.\n",
      "Dotted two matrices of size 500x500 in 7.1752 ms.\n",
      "Dotted two matrices of size 500x500 in 6.8627 ms.\n",
      "Dotted two matrices of size 500x500 in 7.0189 ms.\n",
      "Dotted two matrices of size 500x500 in 7.0189 ms.\n",
      "Dotted two matrices of size 500x500 in 7.4876 ms.\n",
      "Dotted two matrices of size 500x500 in 7.0840 ms.\n",
      "Dotted two matrices of size 500x500 in 7.0189 ms.\n",
      "Dotted two matrices of size 500x500 in 7.1751 ms.\n",
      "Dotted two matrices of size 500x500 in 7.4875 ms.\n",
      "Dotted two matrices of size 500x500 in 7.7992 ms.\n",
      "Dotted two matrices of size 500x500 in 7.3948 ms.\n",
      "Dotted two matrices of size 500x500 in 6.8323 ms.\n",
      "Dotted two matrices of size 500x500 in 6.8626 ms.\n",
      "Dotted two matrices of size 500x500 in 6.8626 ms.\n",
      "Dotted two matrices of size 500x500 in 6.8627 ms.\n",
      "Dotted two matrices of size 500x500 in 6.9538 ms.\n"
     ]
    }
   ],
   "source": [
    "for i in range(20): \n",
    "    matrix_mul(500)"
   ]
  },
  {
   "cell_type": "code",
   "execution_count": 6,
   "id": "98bc4bb8",
   "metadata": {},
   "outputs": [
    {
     "name": "stdout",
     "output_type": "stream",
     "text": [
      "Eigen decomposition of size 500x500 in 296.1061 ms.\n",
      "Eigen decomposition of size 500x500 in 289.2042 ms.\n",
      "Eigen decomposition of size 500x500 in 285.4302 ms.\n",
      "Eigen decomposition of size 500x500 in 296.1041 ms.\n",
      "Eigen decomposition of size 500x500 in 302.2934 ms.\n",
      "Eigen decomposition of size 500x500 in 312.2029 ms.\n",
      "Eigen decomposition of size 500x500 in 294.3041 ms.\n",
      "Eigen decomposition of size 500x500 in 292.7241 ms.\n",
      "Eigen decomposition of size 500x500 in 289.7182 ms.\n",
      "Eigen decomposition of size 500x500 in 407.1105 ms.\n",
      "Eigen decomposition of size 500x500 in 313.2370 ms.\n",
      "Eigen decomposition of size 500x500 in 294.6028 ms.\n",
      "Eigen decomposition of size 500x500 in 292.5102 ms.\n",
      "Eigen decomposition of size 500x500 in 292.0221 ms.\n",
      "Eigen decomposition of size 500x500 in 295.2718 ms.\n",
      "Eigen decomposition of size 500x500 in 286.0444 ms.\n",
      "Eigen decomposition of size 500x500 in 285.4326 ms.\n",
      "Eigen decomposition of size 500x500 in 282.9520 ms.\n",
      "Eigen decomposition of size 500x500 in 293.6845 ms.\n",
      "Eigen decomposition of size 500x500 in 295.2616 ms.\n"
     ]
    }
   ],
   "source": [
    "for i in range(20): \n",
    "    eigen_decomposition(500)"
   ]
  },
  {
   "cell_type": "code",
   "execution_count": 7,
   "id": "5aee386e",
   "metadata": {},
   "outputs": [
    {
     "name": "stdout",
     "output_type": "stream",
     "text": [
      "openblas64__info:\n",
      "    libraries = ['openblas64_', 'openblas64_']\n",
      "    library_dirs = ['openblas\\\\lib']\n",
      "    language = c\n",
      "    define_macros = [('HAVE_CBLAS', None), ('BLAS_SYMBOL_SUFFIX', '64_'), ('HAVE_BLAS_ILP64', None)]\n",
      "    runtime_library_dirs = ['openblas\\\\lib']\n",
      "blas_ilp64_opt_info:\n",
      "    libraries = ['openblas64_', 'openblas64_']\n",
      "    library_dirs = ['openblas\\\\lib']\n",
      "    language = c\n",
      "    define_macros = [('HAVE_CBLAS', None), ('BLAS_SYMBOL_SUFFIX', '64_'), ('HAVE_BLAS_ILP64', None)]\n",
      "    runtime_library_dirs = ['openblas\\\\lib']\n",
      "openblas64__lapack_info:\n",
      "    libraries = ['openblas64_', 'openblas64_']\n",
      "    library_dirs = ['openblas\\\\lib']\n",
      "    language = c\n",
      "    define_macros = [('HAVE_CBLAS', None), ('BLAS_SYMBOL_SUFFIX', '64_'), ('HAVE_BLAS_ILP64', None), ('HAVE_LAPACKE', None)]\n",
      "    runtime_library_dirs = ['openblas\\\\lib']\n",
      "lapack_ilp64_opt_info:\n",
      "    libraries = ['openblas64_', 'openblas64_']\n",
      "    library_dirs = ['openblas\\\\lib']\n",
      "    language = c\n",
      "    define_macros = [('HAVE_CBLAS', None), ('BLAS_SYMBOL_SUFFIX', '64_'), ('HAVE_BLAS_ILP64', None), ('HAVE_LAPACKE', None)]\n",
      "    runtime_library_dirs = ['openblas\\\\lib']\n",
      "Supported SIMD extensions in this NumPy install:\n",
      "    baseline = SSE,SSE2,SSE3\n",
      "    found = SSSE3,SSE41,POPCNT,SSE42,AVX,F16C\n",
      "    not found = FMA3,AVX2,AVX512F,AVX512CD,AVX512_SKX,AVX512_CLX,AVX512_CNL,AVX512_ICL\n"
     ]
    }
   ],
   "source": [
    "np.show_config()"
   ]
  },
  {
   "cell_type": "code",
   "execution_count": null,
   "id": "cdb54cb2",
   "metadata": {},
   "outputs": [],
   "source": []
  }
 ],
 "metadata": {
  "kernelspec": {
   "display_name": "Python 3 (ipykernel)",
   "language": "python",
   "name": "python3"
  },
  "language_info": {
   "codemirror_mode": {
    "name": "ipython",
    "version": 3
   },
   "file_extension": ".py",
   "mimetype": "text/x-python",
   "name": "python",
   "nbconvert_exporter": "python",
   "pygments_lexer": "ipython3",
   "version": "3.10.11"
  }
 },
 "nbformat": 4,
 "nbformat_minor": 5
}
